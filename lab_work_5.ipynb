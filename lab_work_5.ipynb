{
 "cells": [
  {
   "cell_type": "markdown",
   "source": [
    "# Lab5. SVD and weighted SVD on MovieLens."
   ],
   "metadata": {
    "collapsed": false
   }
  },
  {
   "cell_type": "code",
   "execution_count": 65,
   "outputs": [],
   "source": [
    "import os\n",
    "\n",
    "import numpy as np\n",
    "import pandas as pd\n",
    "from numpy import random\n",
    "import matplotlib.pyplot as plt\n",
    "from scipy.sparse import csr_matrix\n",
    "from scipy.sparse.linalg import svds"
   ],
   "metadata": {
    "collapsed": false
   }
  },
  {
   "cell_type": "markdown",
   "source": [
    "### 1) MovieLens Dataset."
   ],
   "metadata": {
    "collapsed": false
   }
  },
  {
   "cell_type": "markdown",
   "source": [
    "#### a) This data set consists of:\n",
    "   - 100,000 ratings (1-5) from 943 users on 1682 movies.\n",
    "   - Each user has rated at least 20 movies."
   ],
   "metadata": {
    "collapsed": false
   }
  },
  {
   "cell_type": "markdown",
   "source": [
    "#### b) It is preferable to begin with this dataset, because its size is applicable for the research purposes and was preprocessed by the authors."
   ],
   "metadata": {
    "collapsed": false
   },
   "execution_count": 1
  },
  {
   "cell_type": "markdown",
   "source": [
    "#### c) Data loading."
   ],
   "metadata": {
    "collapsed": false
   }
  },
  {
   "cell_type": "code",
   "execution_count": 32,
   "outputs": [],
   "source": [
    "NUM_RATINGS = int(1e5)\n",
    "DATA_SHAPE = (943, 1682)\n",
    "DATA_DIR = os.path.join(\".\", \"data\", \"movielens\", \"ml-100k\")"
   ],
   "metadata": {
    "collapsed": false
   }
  },
  {
   "cell_type": "code",
   "execution_count": 24,
   "outputs": [
    {
     "data": {
      "text/plain": "   User ID  Item ID  Rating  Timestamp\n0      196      242       3  881250949\n1      186      302       3  891717742\n2       22      377       1  878887116\n3      244       51       2  880606923\n4      166      346       1  886397596\n5      298      474       4  884182806\n6      115      265       2  881171488\n7      253      465       5  891628467\n8      305      451       3  886324817\n9        6       86       3  883603013",
      "text/html": "<div>\n<style scoped>\n    .dataframe tbody tr th:only-of-type {\n        vertical-align: middle;\n    }\n\n    .dataframe tbody tr th {\n        vertical-align: top;\n    }\n\n    .dataframe thead th {\n        text-align: right;\n    }\n</style>\n<table border=\"1\" class=\"dataframe\">\n  <thead>\n    <tr style=\"text-align: right;\">\n      <th></th>\n      <th>User ID</th>\n      <th>Item ID</th>\n      <th>Rating</th>\n      <th>Timestamp</th>\n    </tr>\n  </thead>\n  <tbody>\n    <tr>\n      <th>0</th>\n      <td>196</td>\n      <td>242</td>\n      <td>3</td>\n      <td>881250949</td>\n    </tr>\n    <tr>\n      <th>1</th>\n      <td>186</td>\n      <td>302</td>\n      <td>3</td>\n      <td>891717742</td>\n    </tr>\n    <tr>\n      <th>2</th>\n      <td>22</td>\n      <td>377</td>\n      <td>1</td>\n      <td>878887116</td>\n    </tr>\n    <tr>\n      <th>3</th>\n      <td>244</td>\n      <td>51</td>\n      <td>2</td>\n      <td>880606923</td>\n    </tr>\n    <tr>\n      <th>4</th>\n      <td>166</td>\n      <td>346</td>\n      <td>1</td>\n      <td>886397596</td>\n    </tr>\n    <tr>\n      <th>5</th>\n      <td>298</td>\n      <td>474</td>\n      <td>4</td>\n      <td>884182806</td>\n    </tr>\n    <tr>\n      <th>6</th>\n      <td>115</td>\n      <td>265</td>\n      <td>2</td>\n      <td>881171488</td>\n    </tr>\n    <tr>\n      <th>7</th>\n      <td>253</td>\n      <td>465</td>\n      <td>5</td>\n      <td>891628467</td>\n    </tr>\n    <tr>\n      <th>8</th>\n      <td>305</td>\n      <td>451</td>\n      <td>3</td>\n      <td>886324817</td>\n    </tr>\n    <tr>\n      <th>9</th>\n      <td>6</td>\n      <td>86</td>\n      <td>3</td>\n      <td>883603013</td>\n    </tr>\n  </tbody>\n</table>\n</div>"
     },
     "execution_count": 24,
     "metadata": {},
     "output_type": "execute_result"
    }
   ],
   "source": [
    "ratings_df = pd.read_csv(os.path.join(DATA_DIR, \"u.data\"), sep=\"\\t\", header=None, names=(\"User ID\", \"Item ID\", \"Rating\", \"Timestamp\"))\n",
    "ratings_df.head(10)"
   ],
   "metadata": {
    "collapsed": false
   }
  },
  {
   "cell_type": "code",
   "execution_count": 25,
   "outputs": [
    {
     "data": {
      "text/plain": "count    943.000000\nmean     106.044539\nstd      100.931743\nmin       20.000000\n25%       33.000000\n50%       65.000000\n75%      148.000000\nmax      737.000000\nName: Item ID, dtype: float64"
     },
     "execution_count": 25,
     "metadata": {},
     "output_type": "execute_result"
    }
   ],
   "source": [
    "ratings_df.groupby(\"User ID\")[\"Item ID\"].count().describe()"
   ],
   "metadata": {
    "collapsed": false
   }
  },
  {
   "cell_type": "code",
   "execution_count": 27,
   "outputs": [
    {
     "data": {
      "text/plain": "   User ID  Item ID  Rating  Timestamp\n0      195      241       3  881250949\n1      185      301       3  891717742\n2       21      376       1  878887116\n3      243       50       2  880606923\n4      165      345       1  886397596",
      "text/html": "<div>\n<style scoped>\n    .dataframe tbody tr th:only-of-type {\n        vertical-align: middle;\n    }\n\n    .dataframe tbody tr th {\n        vertical-align: top;\n    }\n\n    .dataframe thead th {\n        text-align: right;\n    }\n</style>\n<table border=\"1\" class=\"dataframe\">\n  <thead>\n    <tr style=\"text-align: right;\">\n      <th></th>\n      <th>User ID</th>\n      <th>Item ID</th>\n      <th>Rating</th>\n      <th>Timestamp</th>\n    </tr>\n  </thead>\n  <tbody>\n    <tr>\n      <th>0</th>\n      <td>195</td>\n      <td>241</td>\n      <td>3</td>\n      <td>881250949</td>\n    </tr>\n    <tr>\n      <th>1</th>\n      <td>185</td>\n      <td>301</td>\n      <td>3</td>\n      <td>891717742</td>\n    </tr>\n    <tr>\n      <th>2</th>\n      <td>21</td>\n      <td>376</td>\n      <td>1</td>\n      <td>878887116</td>\n    </tr>\n    <tr>\n      <th>3</th>\n      <td>243</td>\n      <td>50</td>\n      <td>2</td>\n      <td>880606923</td>\n    </tr>\n    <tr>\n      <th>4</th>\n      <td>165</td>\n      <td>345</td>\n      <td>1</td>\n      <td>886397596</td>\n    </tr>\n  </tbody>\n</table>\n</div>"
     },
     "execution_count": 27,
     "metadata": {},
     "output_type": "execute_result"
    }
   ],
   "source": [
    "values = ratings_df.values\n",
    "values[:, 0:2] -= 1\n",
    "ratings_df.head()"
   ],
   "metadata": {
    "collapsed": false
   }
  },
  {
   "cell_type": "markdown",
   "source": [
    "#### d) The difference between table df and rating matrix M is that table df contains raw data of records and has shape (100k x #features), while matrix M will be sparse rating matrix of shape (#users x #items) with rating or miss in each cell."
   ],
   "metadata": {
    "collapsed": false
   }
  },
  {
   "cell_type": "markdown",
   "source": [
    "### Data preprocessing."
   ],
   "metadata": {
    "collapsed": false
   }
  },
  {
   "cell_type": "markdown",
   "source": [
    "#### a) Obtain a sparse rating matrix M."
   ],
   "metadata": {
    "collapsed": false
   }
  },
  {
   "cell_type": "code",
   "execution_count": 30,
   "outputs": [
    {
     "data": {
      "text/plain": "<943x1682 sparse matrix of type '<class 'numpy.float64'>'\n\twith 100000 stored elements in Compressed Sparse Row format>"
     },
     "execution_count": 30,
     "metadata": {},
     "output_type": "execute_result"
    }
   ],
   "source": [
    "M = csr_matrix((ratings_df[\"Rating\"], (ratings_df[\"User ID\"], ratings_df[\"Item ID\"])), dtype=np.float64, shape=DATA_SHAPE)\n",
    "M"
   ],
   "metadata": {
    "collapsed": false
   }
  },
  {
   "cell_type": "markdown",
   "source": [
    "#### b) In a sparse matrix, missing data is typically represented by a special value, such as zero or NaN (not a number)."
   ],
   "metadata": {
    "collapsed": false
   }
  },
  {
   "cell_type": "markdown",
   "source": [
    "#### c) Perform train-test split."
   ],
   "metadata": {
    "collapsed": false
   }
  },
  {
   "cell_type": "code",
   "execution_count": 53,
   "outputs": [],
   "source": [
    "train_fraction = 0.9\n",
    "train_size = int(train_fraction * NUM_RATINGS)\n",
    "\n",
    "indices = np.random.permutation(range(NUM_RATINGS))\n",
    "indices_train = indices[0:train_size]\n",
    "indices_test = indices[train_size:NUM_RATINGS]\n",
    "\n",
    "M_train = csr_matrix((ratings_df[\"Rating\"][indices_train], (ratings_df[\"User ID\"][indices_train], ratings_df[\"Item ID\"][indices_train])),\n",
    "                     dtype=float, shape=DATA_SHAPE)\n",
    "M_test = csr_matrix((ratings_df[\"Rating\"][indices_test], (ratings_df[\"User ID\"][indices_test], ratings_df[\"Item ID\"][indices_test])),\n",
    "                    dtype=float, shape=DATA_SHAPE)"
   ],
   "metadata": {
    "collapsed": false
   }
  },
  {
   "cell_type": "code",
   "execution_count": 54,
   "outputs": [
    {
     "name": "stdout",
     "output_type": "stream",
     "text": [
      "<943x1682 sparse matrix of type '<class 'numpy.float64'>'\n",
      "\twith 90000 stored elements in Compressed Sparse Row format>\n",
      "<943x1682 sparse matrix of type '<class 'numpy.float64'>'\n",
      "\twith 10000 stored elements in Compressed Sparse Row format>\n"
     ]
    }
   ],
   "source": [
    "print(M_train.__repr__())\n",
    "print(M_test.__repr__())"
   ],
   "metadata": {
    "collapsed": false
   }
  },
  {
   "cell_type": "markdown",
   "source": [
    "#### d) Compute global mean rating."
   ],
   "metadata": {
    "collapsed": false
   }
  },
  {
   "cell_type": "code",
   "execution_count": 60,
   "outputs": [
    {
     "name": "stdout",
     "output_type": "stream",
     "text": [
      "Global mean rating: 3.530\n"
     ]
    }
   ],
   "source": [
    "global_mean_rating = np.sum(M_train) / np.sum(M_train > 0.5)\n",
    "print(f\"Global mean rating: {global_mean_rating:.3f}\")"
   ],
   "metadata": {
    "collapsed": false
   }
  },
  {
   "cell_type": "markdown",
   "source": [
    "#### e) Compute test MSE if prediction is made using global mean rating."
   ],
   "metadata": {
    "collapsed": false
   }
  },
  {
   "cell_type": "code",
   "execution_count": 61,
   "outputs": [
    {
     "name": "stdout",
     "output_type": "stream",
     "text": [
      "MSE: 1.2701900334567902\n",
      "RMSE: 1.1270270775171243\n"
     ]
    }
   ],
   "source": [
    "mask_train = M_train > 0.5\n",
    "mask_test = M_test > 0.5\n",
    "\n",
    "diff = np.array(M_test[mask_test] - global_mean_rating)\n",
    "mse = np.mean(diff ** 2)\n",
    "rmse = mse ** (1 / 2)\n",
    "\n",
    "print(f\"MSE: {mse}\")\n",
    "print(f\"RMSE: {rmse}\")"
   ],
   "metadata": {
    "collapsed": false
   }
  },
  {
   "cell_type": "markdown",
   "source": [
    "### Recommending using SVD."
   ],
   "metadata": {
    "collapsed": false
   }
  },
  {
   "cell_type": "markdown",
   "source": [
    "#### a) Compute the 20 First factors of the SVD of the centered training data."
   ],
   "metadata": {
    "collapsed": false
   }
  },
  {
   "cell_type": "code",
   "execution_count": 202,
   "outputs": [],
   "source": [
    "M_train_centered = M_train.copy()\n",
    "M_train_centered[mask_train] = M_train[mask_train] - global_mean_rating\n",
    "M_test_centered = M_test.copy()\n",
    "M_test_centered[mask_test] = M_test[mask_test] - global_mean_rating"
   ],
   "metadata": {
    "collapsed": false
   }
  },
  {
   "cell_type": "code",
   "execution_count": 203,
   "outputs": [],
   "source": [
    "num_factors = 20\n",
    "\n",
    "U, D, Vt = svds(M_train_centered, k=num_factors)\n",
    "\n",
    "U = U[:, ::-1]\n",
    "D = D[::-1]\n",
    "Vt = Vt[::-1, :]"
   ],
   "metadata": {
    "collapsed": false
   }
  },
  {
   "cell_type": "code",
   "execution_count": 204,
   "outputs": [
    {
     "name": "stdout",
     "output_type": "stream",
     "text": [
      "(943, 20) (20,) (20, 1682)\n"
     ]
    }
   ],
   "source": [
    "print(U.shape, D.shape, Vt.shape)"
   ],
   "metadata": {
    "collapsed": false
   }
  },
  {
   "cell_type": "markdown",
   "source": [
    "#### b) Predict missing test values using different number of components and plot it."
   ],
   "metadata": {
    "collapsed": false
   }
  },
  {
   "cell_type": "code",
   "execution_count": 205,
   "outputs": [],
   "source": [
    "def svd_mse(_U, _D, _Vt, k):\n",
    "    _M_pred = _U[:, 0:k] @ np.diag(_D[0:k]) @ _Vt[0:k, :]\n",
    "    # _M_pred = _U[:, 0:k] @ _Vt[0:k, :]\n",
    "\n",
    "    _M_err = M_test_centered - mask_test.multiply(_M_pred)\n",
    "\n",
    "    _mse = np.sum(_M_err.power(2)) / np.sum(mask_test)\n",
    "\n",
    "    return _mse"
   ],
   "metadata": {
    "collapsed": false
   }
  },
  {
   "cell_type": "code",
   "execution_count": 206,
   "outputs": [],
   "source": [
    "errors = list()\n",
    "\n",
    "for i in range(1, num_factors + 1):\n",
    "    errors.append(svd_mse(U, D, Vt, i))"
   ],
   "metadata": {
    "collapsed": false
   }
  },
  {
   "cell_type": "code",
   "execution_count": 207,
   "outputs": [
    {
     "data": {
      "text/plain": "<Figure size 800x500 with 1 Axes>",
      "image/png": "[encoded data removed]"
     },
     "metadata": {},
     "output_type": "display_data"
    }
   ],
   "source": [
    "plt.figure(figsize=(8, 5))\n",
    "plt.xlabel(\"Number of components\")\n",
    "plt.ylabel(\"Test MSE\")\n",
    "plt.plot(range(1, num_factors + 1), errors)\n",
    "plt.show()"
   ],
   "metadata": {
    "collapsed": false
   }
  },
  {
   "cell_type": "markdown",
   "source": [
    "### Recommending using the weighted SVD."
   ],
   "metadata": {
    "collapsed": false
   }
  },
  {
   "cell_type": "markdown",
   "source": [
    "#### a) Alternating least square."
   ],
   "metadata": {
    "collapsed": false
   }
  },
  {
   "cell_type": "code",
   "execution_count": 208,
   "outputs": [],
   "source": [
    "def mse(_U, _D, _Vt):\n",
    "    # _M_pred = _U @ np.diag(_D) @ _Vt\n",
    "    _M_pred = _U @ _Vt\n",
    "\n",
    "    _M_err = M_test_centered - mask_test.multiply(_M_pred)\n",
    "\n",
    "    _mse = np.sum(_M_err.power(2)) / np.sum(mask_test)\n",
    "\n",
    "    return _mse"
   ],
   "metadata": {
    "collapsed": false
   }
  },
  {
   "cell_type": "code",
   "execution_count": 209,
   "outputs": [
    {
     "name": "stdout",
     "output_type": "stream",
     "text": [
      "Iteration: 0\n",
      "Test MSE: 1.2779901135296812\n",
      "Iteration: 1\n",
      "Test MSE: 1.2270220613283616\n",
      "Iteration: 2\n",
      "Test MSE: 1.2018540367464845\n",
      "Iteration: 3\n",
      "Test MSE: 1.1867357733211237\n",
      "Iteration: 4\n",
      "Test MSE: 1.1775123027738266\n",
      "Iteration: 5\n",
      "Test MSE: 1.1714271277962103\n",
      "Iteration: 6\n",
      "Test MSE: 1.1673957949782041\n",
      "Iteration: 7\n",
      "Test MSE: 1.164947434358297\n",
      "Iteration: 8\n",
      "Test MSE: 1.16374397536411\n",
      "Iteration: 9\n",
      "Test MSE: 1.1634758828441412\n",
      "Iteration: 10\n",
      "Test MSE: 1.1638681644199382\n",
      "Iteration: 11\n",
      "Test MSE: 1.1646873495277483\n",
      "Iteration: 12\n",
      "Test MSE: 1.1657439525368212\n",
      "Iteration: 13\n",
      "Test MSE: 1.1668963076446741\n",
      "Iteration: 14\n",
      "Test MSE: 1.1680514931393229\n"
     ]
    }
   ],
   "source": [
    "_lambda = 2\n",
    "n_iter = 15\n",
    "\n",
    "U_star = U.copy()\n",
    "Vt_star = Vt.copy()\n",
    "\n",
    "errors = list()\n",
    "\n",
    "for iteration in range(n_iter):\n",
    "    print(f\"Iteration: {iteration}\")\n",
    "\n",
    "    for i in range(len(U)):\n",
    "        Di = np.diag(mask_train[i].toarray().flatten())\n",
    "        A = np.linalg.pinv(Vt_star @ Di @ Vt_star.T + _lambda * np.identity(num_factors))\n",
    "        Ri = M_train_centered[i].T\n",
    "        B = Vt_star @ Di @ Ri\n",
    "        U_star[i] = (A @ B).flatten()\n",
    "\n",
    "    for j in range(Vt.shape[1]):\n",
    "        Dj = np.diag(mask_train[:, j].toarray().flatten())\n",
    "        Rj = M_train_centered[:, j]\n",
    "        A = np.linalg.pinv(U_star.T @ Dj @ U_star + _lambda * np.identity(num_factors))\n",
    "        B = U_star.T @ Dj @ Rj\n",
    "        Vt_star[:, j] = (A @ B).flatten()\n",
    "\n",
    "    error = mse(U_star, D, Vt_star)\n",
    "    errors.append(error)\n",
    "    print(f\"Test MSE: {error}\")"
   ],
   "metadata": {
    "collapsed": false
   }
  },
  {
   "cell_type": "code",
   "execution_count": 210,
   "outputs": [
    {
     "data": {
      "text/plain": "<Figure size 800x500 with 1 Axes>",
      "image/png": "[encoded data removed]"
     },
     "metadata": {},
     "output_type": "display_data"
    }
   ],
   "source": [
    "plt.figure(figsize=(8, 5))\n",
    "plt.xlabel(\"Iteration\")\n",
    "plt.ylabel(\"Test MSE\")\n",
    "plt.plot(range(n_iter), errors)\n",
    "plt.show()"
   ],
   "metadata": {
    "collapsed": false
   }
  },
  {
   "cell_type": "code",
   "execution_count": null,
   "outputs": [],
   "source": [],
   "metadata": {
    "collapsed": false
   }
  }
 ],
 "metadata": {
  "kernelspec": {
   "display_name": "Python 3",
   "language": "python",
   "name": "python3"
  },
  "language_info": {
   "codemirror_mode": {
    "name": "ipython",
    "version": 2
   },
   "file_extension": ".py",
   "mimetype": "text/x-python",
   "name": "python",
   "nbconvert_exporter": "python",
   "pygments_lexer": "ipython2",
   "version": "2.7.6"
  }
 },
 "nbformat": 4,
 "nbformat_minor": 0
}
